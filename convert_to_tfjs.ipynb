{
 "cells": [
  {
   "cell_type": "markdown",
   "id": "fcafba7c",
   "metadata": {},
   "source": [
    "# Convert generator model to TensorFlow.js model\n",
    "\n",
    "This script will be run *after* you trained using `pix2pix_train.py`. It will convert the generator model to a TensorFlow.js model you can run in the browser."
   ]
  },
  {
   "cell_type": "markdown",
   "id": "7cdf907b",
   "metadata": {},
   "source": [
    "## Setup"
   ]
  },
  {
   "cell_type": "code",
   "execution_count": 6,
   "id": "d5b46ca6",
   "metadata": {},
   "outputs": [],
   "source": [
    "import os\n",
    "import subprocess"
   ]
  },
  {
   "cell_type": "code",
   "execution_count": 7,
   "id": "4e3b89cc",
   "metadata": {},
   "outputs": [],
   "source": [
    "def ensure_directory(*args):\n",
    "    dir = os.path.join(*args)\n",
    "    try:\n",
    "        os.makedirs(dir)\n",
    "    except OSError as err:\n",
    "        if err.errno != 17:\n",
    "            raise err\n",
    "    return dir"
   ]
  },
  {
   "cell_type": "markdown",
   "id": "b1d8d702",
   "metadata": {},
   "source": [
    "## Project directory structure\n",
    "\n",
    "**You have to change this cell in order to make the script work.**\n",
    "\n",
    "- `project_dir`: the root of all project files.\n",
    "- `output_dir`: the directory where all the output goes, both the generator and tfjs folders will go here.\n",
    "- `generator_dir`: the directory where the generator model is saved.\n",
    "- `tfjs_dir`: the directory where the tfjs model will be saved."
   ]
  },
  {
   "cell_type": "code",
   "execution_count": 13,
   "id": "19dff37a",
   "metadata": {},
   "outputs": [],
   "source": [
    "project_dir = \"dancers\"\n",
    "output_dir = os.path.join(project_dir, \"output/v001\")\n",
    "generator_dir = os.path.join(output_dir, \"generator\")\n",
    "tfjs_dir = ensure_directory(output_dir, \"tfjs\")"
   ]
  },
  {
   "cell_type": "markdown",
   "id": "303cb833",
   "metadata": {},
   "source": [
    "## Setup Tensorflow.js\n",
    "\n",
    "To convert the model we'll use the [tensorflowjs_converter](https://www.tensorflow.org/js/guide/conversion) script, which is installed as a Python library."
   ]
  },
  {
   "cell_type": "code",
   "execution_count": 14,
   "id": "6e50d468",
   "metadata": {},
   "outputs": [
    {
     "name": "stdout",
     "output_type": "stream",
     "text": [
      "Requirement already satisfied: tensorflowjs in /usr/local/lib/python3.8/dist-packages (3.13.0)\n",
      "Requirement already satisfied: tensorflow-hub<0.13,>=0.7.0 in /usr/local/lib/python3.8/dist-packages (from tensorflowjs) (0.12.0)\n",
      "Requirement already satisfied: six<2,>=1.12.0 in /usr/local/lib/python3.8/dist-packages (from tensorflowjs) (1.15.0)\n",
      "Requirement already satisfied: tensorflow<3,>=2.1.0 in /usr/local/lib/python3.8/dist-packages (from tensorflowjs) (2.6.0+nv)\n",
      "Requirement already satisfied: opt-einsum~=3.3.0 in /usr/local/lib/python3.8/dist-packages (from tensorflow<3,>=2.1.0->tensorflowjs) (3.3.0)\n",
      "Requirement already satisfied: wheel~=0.35 in /usr/local/lib/python3.8/dist-packages (from tensorflow<3,>=2.1.0->tensorflowjs) (0.37.0)\n",
      "Requirement already satisfied: tensorboard~=2.6 in /usr/local/lib/python3.8/dist-packages (from tensorflow<3,>=2.1.0->tensorflowjs) (2.6.0)\n",
      "Requirement already satisfied: typing-extensions~=3.7.4 in /usr/local/lib/python3.8/dist-packages (from tensorflow<3,>=2.1.0->tensorflowjs) (3.7.4.3)\n",
      "Requirement already satisfied: grpcio<2.0,>=1.37.0 in /usr/local/lib/python3.8/dist-packages (from tensorflow<3,>=2.1.0->tensorflowjs) (1.39.0)\n",
      "Requirement already satisfied: clang~=5.0 in /usr/local/lib/python3.8/dist-packages (from tensorflow<3,>=2.1.0->tensorflowjs) (5.0)\n",
      "Requirement already satisfied: keras-preprocessing~=1.1.2 in /usr/local/lib/python3.8/dist-packages (from tensorflow<3,>=2.1.0->tensorflowjs) (1.1.2)\n",
      "Requirement already satisfied: astunparse~=1.6.3 in /usr/local/lib/python3.8/dist-packages (from tensorflow<3,>=2.1.0->tensorflowjs) (1.6.3)\n",
      "Requirement already satisfied: protobuf>=3.9.2 in /usr/local/lib/python3.8/dist-packages (from tensorflow<3,>=2.1.0->tensorflowjs) (3.17.3)\n",
      "Requirement already satisfied: numpy~=1.19.2 in /usr/local/lib/python3.8/dist-packages (from tensorflow<3,>=2.1.0->tensorflowjs) (1.19.4)\n",
      "Requirement already satisfied: wrapt~=1.12.1 in /usr/local/lib/python3.8/dist-packages (from tensorflow<3,>=2.1.0->tensorflowjs) (1.12.1)\n",
      "Requirement already satisfied: flatbuffers~=1.12.0 in /usr/local/lib/python3.8/dist-packages (from tensorflow<3,>=2.1.0->tensorflowjs) (1.12)\n",
      "Requirement already satisfied: tensorflow-estimator~=2.6 in /usr/local/lib/python3.8/dist-packages (from tensorflow<3,>=2.1.0->tensorflowjs) (2.6.0)\n",
      "Requirement already satisfied: absl-py==0.12.0 in /usr/local/lib/python3.8/dist-packages (from tensorflow<3,>=2.1.0->tensorflowjs) (0.12.0)\n",
      "Requirement already satisfied: gast==0.4.0 in /usr/local/lib/python3.8/dist-packages (from tensorflow<3,>=2.1.0->tensorflowjs) (0.4.0)\n",
      "Requirement already satisfied: termcolor~=1.1.0 in /usr/local/lib/python3.8/dist-packages (from tensorflow<3,>=2.1.0->tensorflowjs) (1.1.0)\n",
      "Requirement already satisfied: google-pasta~=0.2 in /usr/local/lib/python3.8/dist-packages (from tensorflow<3,>=2.1.0->tensorflowjs) (0.2.0)\n",
      "Requirement already satisfied: h5py~=3.1.0 in /usr/local/lib/python3.8/dist-packages (from tensorflow<3,>=2.1.0->tensorflowjs) (3.1.0)\n",
      "Requirement already satisfied: keras~=2.6 in /usr/local/lib/python3.8/dist-packages (from tensorflow<3,>=2.1.0->tensorflowjs) (2.6.0)\n",
      "Requirement already satisfied: google-auth-oauthlib<0.5,>=0.4.1 in /usr/local/lib/python3.8/dist-packages (from tensorboard~=2.6->tensorflow<3,>=2.1.0->tensorflowjs) (0.4.6)\n",
      "Requirement already satisfied: requests<3,>=2.21.0 in /usr/local/lib/python3.8/dist-packages (from tensorboard~=2.6->tensorflow<3,>=2.1.0->tensorflowjs) (2.26.0)\n",
      "Requirement already satisfied: google-auth<2,>=1.6.3 in /usr/local/lib/python3.8/dist-packages (from tensorboard~=2.6->tensorflow<3,>=2.1.0->tensorflowjs) (1.35.0)\n",
      "Requirement already satisfied: werkzeug>=0.11.15 in /usr/local/lib/python3.8/dist-packages (from tensorboard~=2.6->tensorflow<3,>=2.1.0->tensorflowjs) (2.0.1)\n",
      "Requirement already satisfied: tensorboard-plugin-wit>=1.6.0 in /usr/local/lib/python3.8/dist-packages (from tensorboard~=2.6->tensorflow<3,>=2.1.0->tensorflowjs) (1.8.0)\n",
      "Requirement already satisfied: markdown>=2.6.8 in /usr/local/lib/python3.8/dist-packages (from tensorboard~=2.6->tensorflow<3,>=2.1.0->tensorflowjs) (3.3.4)\n",
      "Requirement already satisfied: tensorboard-data-server<0.7.0,>=0.6.0 in /usr/local/lib/python3.8/dist-packages (from tensorboard~=2.6->tensorflow<3,>=2.1.0->tensorflowjs) (0.6.1)\n",
      "Requirement already satisfied: setuptools>=41.0.0 in /usr/local/lib/python3.8/dist-packages (from tensorboard~=2.6->tensorflow<3,>=2.1.0->tensorflowjs) (58.1.0)\n",
      "Requirement already satisfied: cachetools<5.0,>=2.0.0 in /usr/local/lib/python3.8/dist-packages (from google-auth<2,>=1.6.3->tensorboard~=2.6->tensorflow<3,>=2.1.0->tensorflowjs) (4.2.2)\n",
      "Requirement already satisfied: pyasn1-modules>=0.2.1 in /usr/local/lib/python3.8/dist-packages (from google-auth<2,>=1.6.3->tensorboard~=2.6->tensorflow<3,>=2.1.0->tensorflowjs) (0.2.8)\n",
      "Requirement already satisfied: rsa<5,>=3.1.4 in /usr/local/lib/python3.8/dist-packages (from google-auth<2,>=1.6.3->tensorboard~=2.6->tensorflow<3,>=2.1.0->tensorflowjs) (4.7.2)\n",
      "Requirement already satisfied: requests-oauthlib>=0.7.0 in /usr/local/lib/python3.8/dist-packages (from google-auth-oauthlib<0.5,>=0.4.1->tensorboard~=2.6->tensorflow<3,>=2.1.0->tensorflowjs) (1.3.0)\n",
      "Requirement already satisfied: pyasn1<0.5.0,>=0.4.6 in /usr/local/lib/python3.8/dist-packages (from pyasn1-modules>=0.2.1->google-auth<2,>=1.6.3->tensorboard~=2.6->tensorflow<3,>=2.1.0->tensorflowjs) (0.4.8)\n",
      "Requirement already satisfied: idna<4,>=2.5 in /usr/local/lib/python3.8/dist-packages (from requests<3,>=2.21.0->tensorboard~=2.6->tensorflow<3,>=2.1.0->tensorflowjs) (3.2)\n",
      "Requirement already satisfied: certifi>=2017.4.17 in /usr/local/lib/python3.8/dist-packages (from requests<3,>=2.21.0->tensorboard~=2.6->tensorflow<3,>=2.1.0->tensorflowjs) (2021.5.30)\n",
      "Requirement already satisfied: urllib3<1.27,>=1.21.1 in /usr/local/lib/python3.8/dist-packages (from requests<3,>=2.21.0->tensorboard~=2.6->tensorflow<3,>=2.1.0->tensorflowjs) (1.26.7)\n",
      "Requirement already satisfied: charset-normalizer~=2.0.0 in /usr/local/lib/python3.8/dist-packages (from requests<3,>=2.21.0->tensorboard~=2.6->tensorflow<3,>=2.1.0->tensorflowjs) (2.0.6)\n",
      "Requirement already satisfied: oauthlib>=3.0.0 in /usr/local/lib/python3.8/dist-packages (from requests-oauthlib>=0.7.0->google-auth-oauthlib<0.5,>=0.4.1->tensorboard~=2.6->tensorflow<3,>=2.1.0->tensorflowjs) (3.1.1)\n",
      "\u001b[33mWARNING: Running pip as the 'root' user can result in broken permissions and conflicting behaviour with the system package manager. It is recommended to use a virtual environment instead: https://pip.pypa.io/warnings/venv\u001b[0m\n",
      "\u001b[33mWARNING: You are using pip version 21.2.4; however, version 22.0.3 is available.\n",
      "You should consider upgrading via the '/usr/bin/python -m pip install --upgrade pip' command.\u001b[0m\n"
     ]
    }
   ],
   "source": [
    "%pip install -q tensorflowjs"
   ]
  },
  {
   "cell_type": "code",
   "execution_count": 15,
   "id": "e5c9ac9d",
   "metadata": {},
   "outputs": [
    {
     "name": "stderr",
     "output_type": "stream",
     "text": [
      "2022-02-24 22:40:42.860946: I tensorflow/stream_executor/cuda/cuda_gpu_executor.cc:1050] successful NUMA node read from SysFS had negative value (-1), but there must be at least one NUMA node, so returning NUMA node zero\n",
      "2022-02-24 22:40:42.873376: I tensorflow/stream_executor/cuda/cuda_gpu_executor.cc:1050] successful NUMA node read from SysFS had negative value (-1), but there must be at least one NUMA node, so returning NUMA node zero\n",
      "2022-02-24 22:40:42.874490: I tensorflow/stream_executor/cuda/cuda_gpu_executor.cc:1050] successful NUMA node read from SysFS had negative value (-1), but there must be at least one NUMA node, so returning NUMA node zero\n",
      "2022-02-24 22:40:42.876380: I tensorflow/stream_executor/cuda/cuda_gpu_executor.cc:1050] successful NUMA node read from SysFS had negative value (-1), but there must be at least one NUMA node, so returning NUMA node zero\n",
      "2022-02-24 22:40:42.877380: I tensorflow/stream_executor/cuda/cuda_gpu_executor.cc:1050] successful NUMA node read from SysFS had negative value (-1), but there must be at least one NUMA node, so returning NUMA node zero\n",
      "2022-02-24 22:40:42.878289: I tensorflow/stream_executor/cuda/cuda_gpu_executor.cc:1050] successful NUMA node read from SysFS had negative value (-1), but there must be at least one NUMA node, so returning NUMA node zero\n",
      "2022-02-24 22:40:43.780304: I tensorflow/stream_executor/cuda/cuda_gpu_executor.cc:1050] successful NUMA node read from SysFS had negative value (-1), but there must be at least one NUMA node, so returning NUMA node zero\n",
      "2022-02-24 22:40:43.781276: I tensorflow/stream_executor/cuda/cuda_gpu_executor.cc:1050] successful NUMA node read from SysFS had negative value (-1), but there must be at least one NUMA node, so returning NUMA node zero\n",
      "2022-02-24 22:40:43.782029: I tensorflow/stream_executor/cuda/cuda_gpu_executor.cc:1050] successful NUMA node read from SysFS had negative value (-1), but there must be at least one NUMA node, so returning NUMA node zero\n",
      "2022-02-24 22:40:43.782818: I tensorflow/core/common_runtime/gpu/gpu_device.cc:1510] Created device /job:localhost/replica:0/task:0/device:GPU:0 with 14659 MB memory:  -> device: 0, name: Tesla V100-PCIE-16GB, pci bus id: 0000:00:05.0, compute capability: 7.0\n",
      "2022-02-24 22:40:46.938498: I tensorflow/stream_executor/cuda/cuda_gpu_executor.cc:1050] successful NUMA node read from SysFS had negative value (-1), but there must be at least one NUMA node, so returning NUMA node zero\n",
      "2022-02-24 22:40:46.938847: I tensorflow/core/grappler/devices.cc:66] Number of eligible GPUs (core count >= 8, compute capability >= 0.0): 1\n",
      "2022-02-24 22:40:46.939001: I tensorflow/core/grappler/clusters/single_machine.cc:357] Starting new session\n",
      "2022-02-24 22:40:46.940834: I tensorflow/stream_executor/cuda/cuda_gpu_executor.cc:1050] successful NUMA node read from SysFS had negative value (-1), but there must be at least one NUMA node, so returning NUMA node zero\n",
      "2022-02-24 22:40:46.941206: I tensorflow/stream_executor/cuda/cuda_gpu_executor.cc:1050] successful NUMA node read from SysFS had negative value (-1), but there must be at least one NUMA node, so returning NUMA node zero\n",
      "2022-02-24 22:40:46.941505: I tensorflow/stream_executor/cuda/cuda_gpu_executor.cc:1050] successful NUMA node read from SysFS had negative value (-1), but there must be at least one NUMA node, so returning NUMA node zero\n",
      "2022-02-24 22:40:46.941871: I tensorflow/stream_executor/cuda/cuda_gpu_executor.cc:1050] successful NUMA node read from SysFS had negative value (-1), but there must be at least one NUMA node, so returning NUMA node zero\n",
      "2022-02-24 22:40:46.942173: I tensorflow/stream_executor/cuda/cuda_gpu_executor.cc:1050] successful NUMA node read from SysFS had negative value (-1), but there must be at least one NUMA node, so returning NUMA node zero\n",
      "2022-02-24 22:40:46.942435: I tensorflow/core/common_runtime/gpu/gpu_device.cc:1510] Created device /job:localhost/replica:0/task:0/device:GPU:0 with 14659 MB memory:  -> device: 0, name: Tesla V100-PCIE-16GB, pci bus id: 0000:00:05.0, compute capability: 7.0\n",
      "2022-02-24 22:40:46.965087: I tensorflow/core/grappler/optimizers/meta_optimizer.cc:1164] Optimization results for grappler item: graph_to_optimize\n",
      "  function_optimizer: Graph size after: 446 nodes (359), 628 edges (541), time = 10.578ms.\n",
      "  function_optimizer: function_optimizer did nothing. time = 0.261ms.\n",
      "\n",
      "2022-02-24 22:40:58.020460: I tensorflow/core/grappler/optimizers/meta_optimizer.cc:1164] Optimization results for grappler item: graph_to_optimize\n",
      "  debug_stripper: debug_stripper did nothing. time = 0.044ms.\n",
      "  model_pruner: Graph size after: 322 nodes (-88), 504 edges (-88), time = 2.187ms.\n",
      "  constant_folding: Graph size after: 239 nodes (-83), 421 edges (-83), time = 988.275ms.\n",
      "  arithmetic_optimizer: Graph size after: 239 nodes (0), 421 edges (0), time = 235.115ms.\n",
      "  dependency_optimizer: Graph size after: 235 nodes (-4), 251 edges (-170), time = 117.387ms.\n",
      "  model_pruner: Graph size after: 235 nodes (0), 251 edges (0), time = 118.383ms.\n",
      "  constant_folding: Graph size after: 235 nodes (0), 251 edges (0), time = 434.392ms.\n",
      "  arithmetic_optimizer: Graph size after: 235 nodes (0), 251 edges (0), time = 253.032ms.\n",
      "  dependency_optimizer: Graph size after: 235 nodes (0), 251 edges (0), time = 105.656ms.\n",
      "  debug_stripper: debug_stripper did nothing. time = 4.397ms.\n",
      "  model_pruner: Graph size after: 235 nodes (0), 251 edges (0), time = 113.077ms.\n",
      "  constant_folding: Graph size after: 235 nodes (0), 251 edges (0), time = 408.587ms.\n",
      "  arithmetic_optimizer: Graph size after: 235 nodes (0), 251 edges (0), time = 252.002ms.\n",
      "  dependency_optimizer: Graph size after: 235 nodes (0), 251 edges (0), time = 131.255ms.\n",
      "  model_pruner: Graph size after: 235 nodes (0), 251 edges (0), time = 118.236ms.\n",
      "  constant_folding: Graph size after: 235 nodes (0), 251 edges (0), time = 435.46ms.\n",
      "  arithmetic_optimizer: Graph size after: 235 nodes (0), 251 edges (0), time = 252.547ms.\n",
      "  dependency_optimizer: Graph size after: 235 nodes (0), 251 edges (0), time = 105.871ms.\n",
      "\n",
      "WARNING:tensorflow:Didn't find expected Conv2D or DepthwiseConv2dNative input to 'StatefulPartitionedCall/model/sequential_11/batch_normalization_10/FusedBatchNormV3'\n",
      "WARNING:tensorflow:Didn't find expected Conv2D or DepthwiseConv2dNative input to 'StatefulPartitionedCall/model/sequential_12/batch_normalization_11/FusedBatchNormV3'\n",
      "WARNING:tensorflow:Didn't find expected Conv2D or DepthwiseConv2dNative input to 'StatefulPartitionedCall/model/sequential_13/batch_normalization_12/FusedBatchNormV3'\n",
      "WARNING:tensorflow:Didn't find expected Conv2D or DepthwiseConv2dNative input to 'StatefulPartitionedCall/model/sequential_14/batch_normalization_13/FusedBatchNormV3'\n",
      "WARNING:tensorflow:Didn't find expected Conv2D or DepthwiseConv2dNative input to 'StatefulPartitionedCall/model/sequential_15/batch_normalization_14/FusedBatchNormV3'\n",
      "WARNING:tensorflow:Didn't find expected Conv2D or DepthwiseConv2dNative input to 'StatefulPartitionedCall/model/sequential_16/batch_normalization_15/FusedBatchNormV3'\n",
      "WARNING:tensorflow:Didn't find expected Conv2D or DepthwiseConv2dNative input to 'StatefulPartitionedCall/model/sequential_17/batch_normalization_16/FusedBatchNormV3'\n",
      "WARNING:tensorflow:Didn't find expected Conv2D or DepthwiseConv2dNative input to 'StatefulPartitionedCall/model/sequential_18/batch_normalization_17/FusedBatchNormV3'\n",
      "2022-02-24 22:41:56.033566: I tensorflow/core/grappler/optimizers/meta_optimizer.cc:1164] Optimization results for grappler item: graph_to_optimize\n",
      "  remapper: Graph size after: 283 nodes (40), 275 edges (48), time = 361.98ms.\n",
      "  constant_folding: Graph size after: 187 nodes (-96), 203 edges (-72), time = 445.553ms.\n",
      "  arithmetic_optimizer: Graph size after: 187 nodes (0), 203 edges (0), time = 193.349ms.\n",
      "  dependency_optimizer: Graph size after: 187 nodes (0), 203 edges (0), time = 77.81ms.\n",
      "  remapper: Graph size after: 187 nodes (0), 203 edges (0), time = 77.448ms.\n",
      "  constant_folding: Graph size after: 187 nodes (0), 203 edges (0), time = 298.584ms.\n",
      "  arithmetic_optimizer: Graph size after: 187 nodes (0), 203 edges (0), time = 179.151ms.\n",
      "  dependency_optimizer: Graph size after: 187 nodes (0), 203 edges (0), time = 27.66ms.\n",
      "\n"
     ]
    },
    {
     "name": "stdout",
     "output_type": "stream",
     "text": [
      "Writing weight file output/v001/tfjs/model.json...\n"
     ]
    },
    {
     "data": {
      "text/plain": [
       "CompletedProcess(args=['tensorflowjs_converter', 'output/v001/generator', 'output/v001/tfjs'], returncode=0)"
      ]
     },
     "execution_count": 15,
     "metadata": {},
     "output_type": "execute_result"
    }
   ],
   "source": [
    "subprocess.run(['tensorflowjs_converter', generator_dir, tfjs_dir])"
   ]
  },
  {
   "cell_type": "markdown",
   "id": "7e6ae143",
   "metadata": {},
   "source": [
    "Zip the `tfjs` folder so it's easier to download it."
   ]
  },
  {
   "cell_type": "code",
   "execution_count": 16,
   "id": "4146b28b",
   "metadata": {},
   "outputs": [
    {
     "name": "stdout",
     "output_type": "stream",
     "text": [
      "  adding: tfjs/ (stored 0%)\n",
      "  adding: tfjs/group1-shard38of52.bin (deflated 7%)\n",
      "  adding: tfjs/group1-shard6of52.bin (deflated 7%)\n",
      "  adding: tfjs/group1-shard24of52.bin (deflated 7%)\n",
      "  adding: tfjs/group1-shard40of52.bin (deflated 7%)\n",
      "  adding: tfjs/group1-shard42of52.bin (deflated 7%)\n",
      "  adding: tfjs/group1-shard33of52.bin (deflated 8%)\n",
      "  adding: tfjs/group1-shard9of52.bin (deflated 7%)\n",
      "  adding: tfjs/group1-shard34of52.bin (deflated 7%)\n",
      "  adding: tfjs/group1-shard16of52.bin (deflated 7%)\n",
      "  adding: tfjs/group1-shard2of52.bin (deflated 7%)\n",
      "  adding: tfjs/group1-shard13of52.bin (deflated 7%)\n",
      "  adding: tfjs/group1-shard29of52.bin (deflated 7%)\n",
      "  adding: tfjs/model.json (deflated 95%)\n",
      "  adding: tfjs/group1-shard36of52.bin (deflated 7%)\n",
      "  adding: tfjs/group1-shard39of52.bin (deflated 7%)\n",
      "  adding: tfjs/group1-shard30of52.bin (deflated 8%)\n",
      "  adding: tfjs/group1-shard19of52.bin (deflated 7%)\n",
      "  adding: tfjs/group1-shard51of52.bin (deflated 7%)\n",
      "  adding: tfjs/group1-shard32of52.bin (deflated 8%)\n",
      "  adding: tfjs/group1-shard21of52.bin (deflated 7%)\n",
      "  adding: tfjs/group1-shard28of52.bin (deflated 7%)\n",
      "  adding: tfjs/group1-shard1of52.bin (deflated 7%)\n",
      "  adding: tfjs/group1-shard49of52.bin (deflated 7%)\n",
      "  adding: tfjs/group1-shard10of52.bin (deflated 7%)\n",
      "  adding: tfjs/group1-shard8of52.bin (deflated 7%)\n",
      "  adding: tfjs/group1-shard45of52.bin (deflated 7%)\n",
      "  adding: tfjs/group1-shard25of52.bin (deflated 7%)\n",
      "  adding: tfjs/group1-shard7of52.bin (deflated 7%)\n",
      "  adding: tfjs/group1-shard27of52.bin (deflated 7%)\n",
      "  adding: tfjs/group1-shard47of52.bin (deflated 7%)\n",
      "  adding: tfjs/group1-shard50of52.bin (deflated 7%)\n",
      "  adding: tfjs/group1-shard3of52.bin (deflated 7%)\n",
      "  adding: tfjs/group1-shard52of52.bin (deflated 7%)\n",
      "  adding: tfjs/group1-shard5of52.bin (deflated 7%)\n",
      "  adding: tfjs/group1-shard20of52.bin (deflated 7%)\n",
      "  adding: tfjs/group1-shard26of52.bin (deflated 7%)\n",
      "  adding: tfjs/group1-shard35of52.bin (deflated 7%)\n",
      "  adding: tfjs/group1-shard44of52.bin (deflated 7%)\n",
      "  adding: tfjs/group1-shard11of52.bin (deflated 7%)\n",
      "  adding: tfjs/group1-shard4of52.bin (deflated 7%)\n",
      "  adding: tfjs/group1-shard23of52.bin (deflated 7%)\n",
      "  adding: tfjs/group1-shard22of52.bin (deflated 7%)\n",
      "  adding: tfjs/group1-shard14of52.bin (deflated 7%)\n",
      "  adding: tfjs/group1-shard31of52.bin (deflated 8%)\n",
      "  adding: tfjs/group1-shard12of52.bin (deflated 7%)\n",
      "  adding: tfjs/group1-shard48of52.bin (deflated 7%)\n",
      "  adding: tfjs/group1-shard17of52.bin (deflated 7%)\n",
      "  adding: tfjs/group1-shard46of52.bin (deflated 7%)\n",
      "  adding: tfjs/group1-shard37of52.bin (deflated 7%)\n",
      "  adding: tfjs/group1-shard18of52.bin (deflated 7%)\n",
      "  adding: tfjs/group1-shard15of52.bin (deflated 7%)\n",
      "  adding: tfjs/group1-shard41of52.bin (deflated 7%)\n",
      "  adding: tfjs/group1-shard43of52.bin (deflated 7%)\n"
     ]
    },
    {
     "data": {
      "text/plain": [
       "CompletedProcess(args=['zip', '-r9', 'tfjs.zip', 'tfjs'], returncode=0)"
      ]
     },
     "execution_count": 16,
     "metadata": {},
     "output_type": "execute_result"
    }
   ],
   "source": [
    "subprocess.run(['zip', '-r9', 'tfjs.zip', 'tfjs'], cwd=output_dir)"
   ]
  },
  {
   "cell_type": "markdown",
   "id": "0df63b40",
   "metadata": {},
   "source": [
    "Once it's done, go from the [Jupyter Notebook home page](/tree), select the .zip file in `your_project_folder/output/v001`, and click on the `Download` button."
   ]
  },
  {
   "cell_type": "code",
   "execution_count": null,
   "id": "dbe3c6d1",
   "metadata": {},
   "outputs": [],
   "source": []
  }
 ],
 "metadata": {
  "kernelspec": {
   "display_name": "Python 3 (ipykernel)",
   "language": "python",
   "name": "python3"
  },
  "language_info": {
   "codemirror_mode": {
    "name": "ipython",
    "version": 3
   },
   "file_extension": ".py",
   "mimetype": "text/x-python",
   "name": "python",
   "nbconvert_exporter": "python",
   "pygments_lexer": "ipython3",
   "version": "3.8.10"
  }
 },
 "nbformat": 4,
 "nbformat_minor": 5
}
